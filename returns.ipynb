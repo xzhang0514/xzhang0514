{
 "cells": [
  {
   "cell_type": "code",
   "execution_count": 9,
   "metadata": {},
   "outputs": [],
   "source": [
    "import numpy as np\n",
    "import pandas as pd\n",
    "import matplotlib as mpl\n",
    "import matplotlib.pyplot as plt\n",
    "from scipy import linalg, optimize\n",
    "import math\n",
    "import stat"
   ]
  },
  {
   "cell_type": "markdown",
   "metadata": {},
   "source": [
    "## Returns"
   ]
  },
  {
   "cell_type": "markdown",
   "metadata": {},
   "source": [
    "### Simulate a geometric random walk"
   ]
  },
  {
   "cell_type": "code",
   "execution_count": 10,
   "metadata": {},
   "outputs": [],
   "source": [
    "n = 252; mu = 0.05; sigma = 0.2; s0 = 120"
   ]
  },
  {
   "cell_type": "code",
   "execution_count": 11,
   "metadata": {},
   "outputs": [],
   "source": [
    "np.random.seed(123)"
   ]
  },
  {
   "cell_type": "code",
   "execution_count": 12,
   "metadata": {},
   "outputs": [
    {
     "data": {
      "image/png": "[encoded data removed]",
      "text/plain": [
       "<Figure size 432x288 with 9 Axes>"
      ]
     },
     "metadata": {
      "needs_background": "light"
     },
     "output_type": "display_data"
    }
   ],
   "source": [
    "fig, axs = plt.subplots(3, 3, sharex=True, sharey=True)\n",
    "\n",
    "for i in range(3):\n",
    "    for j in range(3):\n",
    "        logr = np.random.normal(mu/n, sigma/np.sqrt(n), n)\n",
    "        s = s0*np.exp(np.cumsum(logr))\n",
    "        axs[i, j].plot(s)      "
   ]
  },
  {
   "cell_type": "markdown",
   "metadata": {},
   "source": [
    "### Simulate a strategy"
   ]
  },
  {
   "cell_type": "markdown",
   "metadata": {},
   "source": [
    "Suppose a hedge fund owns $\\$1,000,000$ of stock. They used $\\$50,000$ of their own capital and $\\$950,000$ of borrowed money for the purchase. If the value of stock falls below $\\$950,000$, the fund will sell the stock and repay the loan. The log returns of the stock has a mean of $0.05$ per year, and a standard deviation of $0.2$ per year. Suppose tt has $252$ trading days per year.\n",
    "\n",
    "What is the probability the fund will wipe out its investment of $\\$50,000$ in the next $100$ days? In other words, the value of the stock falls below $\\$950,000$ at the close of at least one day. \n",
    "    \n",
    "What is the expected return? Express the return as daily return. For example, the fund holds the position for $\\tau$ days before selling, the daily return is $-\\frac{1}{\\tau}$.  \n",
    "\n",
    "\n"
   ]
  },
  {
   "cell_type": "code",
   "execution_count": 20,
   "metadata": {},
   "outputs": [],
   "source": [
    "niter = 10000\n",
    "below = [0] * niter\n",
    "returns = [0] * niter\n",
    "expiry = 100\n",
    "mean = 0.15\n",
    "sd = 0.2\n",
    "N = 252\n",
    "S0 = 1e6\n",
    "asset = 5e4\n",
    "debt = S0 - asset"
   ]
  },
  {
   "cell_type": "code",
   "execution_count": 28,
   "metadata": {},
   "outputs": [
    {
     "data": {
      "text/plain": [
       "0.5165"
      ]
     },
     "execution_count": 28,
     "metadata": {},
     "output_type": "execute_result"
    }
   ],
   "source": [
    "np.random.seed(123)\n",
    "\n",
    "logS0 = math.log(S0)\n",
    "logDebt = math.log(debt)\n",
    "for i in range(niter):\n",
    "    r = np.random.normal(mean/N -0.5*sd*sd/N, sd/np.sqrt(N), expiry)\n",
    "    logPrice = logS0 + np.cumsum(r)\n",
    "    minimum = min(logPrice)\n",
    "    below[i] = minimum < logDebt\n",
    "    \n",
    "np.mean(below)"
   ]
  },
  {
   "cell_type": "code",
   "execution_count": 27,
   "metadata": {
    "scrolled": false
   },
   "outputs": [
    {
     "data": {
      "text/plain": [
       "-0.02221068208823992"
      ]
     },
     "execution_count": 27,
     "metadata": {},
     "output_type": "execute_result"
    },
    {
     "data": {
      "image/png": "[encoded data removed]",
      "text/plain": [
       "<Figure size 432x288 with 1 Axes>"
      ]
     },
     "metadata": {
      "needs_background": "light"
     },
     "output_type": "display_data"
    }
   ],
   "source": [
    "np.random.seed(456)\n",
    "\n",
    "logS0 = math.log(S0)\n",
    "logDebt = math.log(debt)\n",
    "for i in range(niter):\n",
    "    r = np.random.normal(mean/N - 0.5*sd*sd/N, sd/np.sqrt(N), expiry)\n",
    "    logPrice = logS0 + np.cumsum(r)\n",
    "    \n",
    "    #plt.plot(logPrice)\n",
    "    \n",
    "    minimum = min(logPrice)\n",
    "    \n",
    "    if minimum < logDebt:\n",
    "        l = [i for i, e in enumerate(logPrice) if e < logDebt]\n",
    "        tau = l[0]+1\n",
    "        returns[i] =  - 1/tau\n",
    "    else:    \n",
    "        returns[i] = (math.exp(logPrice[-1]) - S0)/asset*(1/expiry)\n",
    "    \n",
    "plt.hist(returns)\n",
    "np.mean(returns)"
   ]
  },
  {
   "cell_type": "code",
   "execution_count": 63,
   "metadata": {},
   "outputs": [
    {
     "data": {
      "text/plain": [
       "0.15455419677217236"
      ]
     },
     "execution_count": 63,
     "metadata": {},
     "output_type": "execute_result"
    }
   ],
   "source": [
    "t = 100 / 252\n",
    "(np.exp(0.15 * t) - 1) / t"
   ]
  },
  {
   "cell_type": "code",
   "execution_count": null,
   "metadata": {},
   "outputs": [],
   "source": []
  }
 ],
 "metadata": {
  "kernelspec": {
   "display_name": "Python 3",
   "language": "python",
   "name": "python3"
  },
  "language_info": {
   "codemirror_mode": {
    "name": "ipython",
    "version": 3
   },
   "file_extension": ".py",
   "mimetype": "text/x-python",
   "name": "python",
   "nbconvert_exporter": "python",
   "pygments_lexer": "ipython3",
   "version": "3.7.3"
  },
  "toc": {
   "base_numbering": 1,
   "nav_menu": {},
   "number_sections": true,
   "sideBar": true,
   "skip_h1_title": false,
   "title_cell": "Table of Contents",
   "title_sidebar": "Contents",
   "toc_cell": false,
   "toc_position": {},
   "toc_section_display": true,
   "toc_window_display": false
  }
 },
 "nbformat": 4,
 "nbformat_minor": 2
}
